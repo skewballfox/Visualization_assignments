{
 "cells": [
  {
   "cell_type": "code",
   "execution_count": 1,
   "metadata": {},
   "outputs": [],
   "source": [
    "import polars as pl\n",
    "import numpy as np\n",
    "from pathlib import Path\n",
    "project_dir = Path(globals()['_dh'][0]).parent"
   ]
  },
  {
   "cell_type": "code",
   "execution_count": null,
   "metadata": {},
   "outputs": [],
   "source": [
    "df = pl.read_csv(project_dir/\"data\"/\"Eggs.csv\")"
   ]
  },
  {
   "attachments": {},
   "cell_type": "markdown",
   "metadata": {},
   "source": [
    "The requirements of your parallel coordinates system are:\n",
    "\n",
    "- You must be able to load in and process CSV data. You can tailor it for the Egg data file only if you want.\n",
    "- It must load and show all of the dimensions (columns) in the file as axes and every data point (rows) as a polyline\n",
    "- You must support brushing of the data points: \n",
    "  - If the mouse is over a data point/polyline, it must highlight the attached line throughout the display. \n",
    "  - Several lines may be under the mouse point; just have a way to consistently pick one.\n",
    "\n",
    "You then must implement at least two of the following:\n",
    "\n",
    "- Allow reordering of the axes for better comparisons\n",
    "- Allow brushing of the axes to filter out lines\n",
    "- Add another data variable to the CSV and visualize it; an interesting relevant variable would be length of day for each of the dates.\n",
    "- Implement a SPLOM over the same data as an alternative display to do the analysis."
   ]
  },
  {
   "cell_type": "code",
   "execution_count": null,
   "metadata": {},
   "outputs": [],
   "source": []
  }
 ],
 "metadata": {
  "kernelspec": {
   "display_name": "assingments-sb-U2l7Q-py3.10",
   "language": "python",
   "name": "python3"
  },
  "language_info": {
   "codemirror_mode": {
    "name": "ipython",
    "version": 3
   },
   "file_extension": ".py",
   "mimetype": "text/x-python",
   "name": "python",
   "nbconvert_exporter": "python",
   "pygments_lexer": "ipython3",
   "version": "3.10.10"
  },
  "orig_nbformat": 4
 },
 "nbformat": 4,
 "nbformat_minor": 2
}
